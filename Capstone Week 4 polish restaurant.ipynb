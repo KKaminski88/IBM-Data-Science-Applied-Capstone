{
 "cells": [
  {
   "cell_type": "markdown",
   "metadata": {},
   "source": [
    "# Capstone Project – Battle of Neighbourhoods\n",
    "## Introduction/Business Problem:\n",
    "Best location to start a restaurant in Warsaw\n",
    "\n",
    "Important problem to be solve when opening a restaurant is location. Warssaw is the capital and the largest city in Poland. It is the most popular city for earning money, due to the highest average salary from all of the polish cities. Warsaw and Krakow are most of popular places visited by tourists from all over the world.\n",
    "\n",
    "Client want to open polish restaurant and he is wondering where should he should placed it. For last several years in Warsaw has been opened a variety of restaurants, from different sides of world. Location is very important for success of this kind of business, so it could gain interested tourist and local people.\n",
    "\n",
    "## Data\n",
    "1. Neighbourhoods of Warsaw\n",
    "- Neighbourhoods of Warsaw wikipedia page through data scraping\n",
    "2. Geographical coordinates of the neighbourhoods\n",
    "- Using GeoPy library\n",
    "3. Venue data from FourSquare\n",
    "- Using FourSquare API\n",
    "\n",
    "## Methodology\n",
    "1. Feature Extraction\n",
    "- One Hot Encoding \n",
    "2. Unsupervised Learning\n",
    "- K-Means Clustering\n",
    "3. Ploting\n",
    "- Folium\n",
    "\n",
    "## Results \n",
    "1. Visualization of clusters"
   ]
  },
  {
   "cell_type": "code",
   "execution_count": null,
   "metadata": {},
   "outputs": [],
   "source": []
  }
 ],
 "metadata": {
  "kernelspec": {
   "display_name": "Python 3",
   "language": "python",
   "name": "python3"
  },
  "language_info": {
   "codemirror_mode": {
    "name": "ipython",
    "version": 3
   },
   "file_extension": ".py",
   "mimetype": "text/x-python",
   "name": "python",
   "nbconvert_exporter": "python",
   "pygments_lexer": "ipython3",
   "version": "3.8.5"
  }
 },
 "nbformat": 4,
 "nbformat_minor": 4
}
