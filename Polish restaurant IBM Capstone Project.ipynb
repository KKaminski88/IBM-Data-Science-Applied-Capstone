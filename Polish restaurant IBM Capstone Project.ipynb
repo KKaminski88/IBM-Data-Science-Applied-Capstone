{
 "cells": [
  {
   "cell_type": "markdown",
   "metadata": {},
   "source": [
    "# Capstone Project – Battle of Neighbourhoods\n",
    "## Introduction/Business Problem:\n",
    "*Best location to start a polish restaurant in Warsaw*\n",
    "\n",
    "Important problem to be solve when opening a restaurant is location. Warssaw is the capital and the largest city in Poland. It is the most popular city for earning money, due to the highest average salary from all of the polish cities. Warsaw and Krakow are most of popular places visited by tourists from all over the world. \n",
    "\n",
    "Client want to open polish restaurant where he will serve traditional Polish cuisine. For last several years in Warsaw has been opened a variety of restaurants, from different sides of world. Restaurants with polish dishes do not appear so often as they were 20 or 30 years ago. It could be very interesting for local residents searching for traditional local cusine and also tourists who visites capital of Poland.\n",
    "\n",
    "## Data\n",
    "\n",
    "1. Names and coordinates of Warsaw Neighbourhoods\n",
    "2. Venues in Warsaw area\n",
    "\n",
    "2.1 A list of the names of the different neighbourhoods was scraped from Wikipedia( https://en.wikipedia.org/wiki/Districts_of_Warsaw). Coordinates were added using Python *Geopy* library. \n",
    "\n",
    "2.2 Foursquare API was used to retriebe info about most popular places in Warsaw."
   ]
  },
  {
   "cell_type": "code",
   "execution_count": null,
   "metadata": {},
   "outputs": [],
   "source": []
  }
 ],
 "metadata": {
  "kernelspec": {
   "display_name": "Python 3",
   "language": "python",
   "name": "python3"
  },
  "language_info": {
   "codemirror_mode": {
    "name": "ipython",
    "version": 3
   },
   "file_extension": ".py",
   "mimetype": "text/x-python",
   "name": "python",
   "nbconvert_exporter": "python",
   "pygments_lexer": "ipython3",
   "version": "3.8.5"
  }
 },
 "nbformat": 4,
 "nbformat_minor": 4
}
